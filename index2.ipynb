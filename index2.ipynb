{
 "cells": [
  {
   "cell_type": "code",
   "execution_count": 27,
   "metadata": {},
   "outputs": [],
   "source": [
    "import dash\n",
    "import dash_bootstrap_components as dbc\n",
    "import dash_html_components as html\n",
    "from dash.dependencies import Input, Output, State\n",
    "# import requests, base64\n",
    "# from io import BytesIO\n",
    "import dash_core_components as dcc\n",
    "# import plotly.graph_objs as go\n",
    "# from collections import Counter\n",
    "# import pandas as pd"
   ]
  },
  {
   "cell_type": "code",
   "execution_count": 17,
   "metadata": {},
   "outputs": [],
   "source": [
    "#df = pd.read_csv('project/analytics.csv')\n",
    "#df = px.data.gapminder()\n",
    "# df = px.data.iris() # iris is a pandas DataFrame\n",
    "# fig = px.scatter(df, x=\"sepal_width\", y=\"sepal_length\")\n",
    "# fig.show()\n",
    "#df['date1'] = pd.to_datetime(df['date1'], format = \"%m/%d/%Y\")\n",
    "# image_filename = 'project/images/ico1.jpg' # replace with your own image\n",
    "# encoded_image = base64.b64encode(open(image_filename, 'rb').read())\n",
    "#external_stylesheets = ['https://codepen.io/chriddyp/pen/bWLwgP.css']\n",
    "# external_stylesheets =['https://codepen.io/chriddyp/pen/bWLwgP.css', dbc.themes.BOOTSTRAP]\n",
    "# nwsc_logo = \"project/images/nwscLogo.png\""
   ]
  },
  {
   "cell_type": "code",
   "execution_count": 18,
   "metadata": {},
   "outputs": [],
   "source": [
    "# dash_logo = \"https://image.flaticon.com/icons/png/128/1182/1182902.png\"\n",
    "# nasa_logo = \"https://image.flaticon.com/icons/png/128/946/946567.png\""
   ]
  },
  {
   "cell_type": "code",
   "execution_count": 19,
   "metadata": {},
   "outputs": [],
   "source": [
    "app = dash.Dash(__name__)"
   ]
  },
  {
   "cell_type": "code",
   "execution_count": 20,
   "metadata": {},
   "outputs": [],
   "source": [
    "# nav_item = dbc.NavItem(dbc.NavLink(\"NWSC-WPD\",href=\"#\"))"
   ]
  },
  {
   "cell_type": "code",
   "execution_count": 21,
   "metadata": {},
   "outputs": [],
   "source": [
    "# dropdown = dbc.DropdownMenu(\n",
    "#     children=[\n",
    "#         dbc.DropdownMenuItem(\"Item 1\"),\n",
    "#         dbc.DropdownMenuItem(\"Item 2\"),\n",
    "#         dbc.DropdownMenuItem(\"Item 3\"),\n",
    "#     ],\n",
    "#     nav=True,\n",
    "#     in_navbar=True,\n",
    "#     label=\"Links\",\n",
    "# )"
   ]
  },
  {
   "cell_type": "code",
   "execution_count": 22,
   "metadata": {},
   "outputs": [],
   "source": [
    "# navbar = dbc.Navbar(\n",
    "#     dbc.Container(\n",
    "#         [\n",
    "#         html.A(\n",
    "#             # Use row and col to control vertical alignment of logo / brand\n",
    "#             dbc.Row(\n",
    "#                 [\n",
    "#                     dbc.Col(html.Img(src=dash_logo)),\n",
    "#                     dbc.Col(dbc.NavbarBrand(\"\", className=\"ml-2\")),\n",
    "#                 ],\n",
    "#                 align=\"center\",\n",
    "#                 no_gutters=True,\n",
    "#             ),\n",
    "#             href=\"https://plot.ly\",\n",
    "#         ),\n",
    "#         dbc.NavbarToggler(id=\"navbar-toggler\"),\n",
    "#         dbc.Collapse(\n",
    "#             dbc.Nav(\n",
    "#                 [nav_item,\n",
    "#                  dropdown,\n",
    "#                 ], className=\"ml-auto\", navbar=True\n",
    "#             ),\n",
    "#             id=\"navbar-collapse2\",\n",
    "#             navbar=True,\n",
    "#             ),\n",
    "#         ]\n",
    "        \n",
    "#     ),\n",
    "#     color=\"dark\",\n",
    "#     dark=True,\n",
    "#     className=\"mb-5\",\n",
    "# )"
   ]
  },
  {
   "cell_type": "code",
   "execution_count": 23,
   "metadata": {},
   "outputs": [],
   "source": [
    "# def create_card(title, content):\n",
    "#     card = dbc.Card(\n",
    "        \n",
    "#         dbc.CardBody(title, content),\n",
    "#         style={\"width\": \"15rem\", \"height\" : \"2rem\"}\n",
    "#     )\n",
    "#     return(card)\n",
    "# card1 = create_card(\"757M3\", \"Volume\")\n",
    "# card2 = create_card(\"1.2BN\", \"Power \")\n",
    "# cards = html.Div(\n",
    "#     [\n",
    "#         dbc.Card([\n",
    "#             dbc.CardImg(src=nasa_logo, style={'width':'1.5rem', 'background-color':'dodgerblue', 'float' : 'right'}),\n",
    "#             dbc.CardBody(\"15BN\")\n",
    "#         ],style={'width' : \"15rem\", \"border-radius\":\"0px 0px 0px 0px\", 'border':'3px solid #900'})\n",
    "#     ]\n",
    "# )"
   ]
  },
  {
   "cell_type": "code",
   "execution_count": 24,
   "metadata": {},
   "outputs": [],
   "source": [
    "# first_row = dbc.Row([\n",
    "    \n",
    "#     dbc.Col(id='card1', children=[card1], md=3),\n",
    "#     dbc.Col(id='card2', children=[card2], md=3)\n",
    "# ])"
   ]
  },
  {
   "cell_type": "code",
   "execution_count": 28,
   "metadata": {},
   "outputs": [],
   "source": [
    "app.layout = html.Div([\n",
    "    \n",
    "])"
   ]
  },
  {
   "cell_type": "code",
   "execution_count": null,
   "metadata": {
    "scrolled": true
   },
   "outputs": [
    {
     "name": "stdout",
     "output_type": "stream",
     "text": [
      "Dash is running on http://127.0.0.1:8050/\n",
      "\n",
      "Dash is running on http://127.0.0.1:8050/\n",
      "\n",
      " * Serving Flask app \"__main__\" (lazy loading)\n",
      " * Environment: production\n",
      "   WARNING: This is a development server. Do not use it in a production deployment.\n",
      "   Use a production WSGI server instead.\n",
      " * Debug mode: off\n"
     ]
    }
   ],
   "source": [
    "if __name__ == '__main__':\n",
    "    app.run_server()"
   ]
  },
  {
   "cell_type": "code",
   "execution_count": null,
   "metadata": {},
   "outputs": [],
   "source": []
  },
  {
   "cell_type": "code",
   "execution_count": null,
   "metadata": {},
   "outputs": [],
   "source": []
  }
 ],
 "metadata": {
  "kernelspec": {
   "display_name": "Python 3",
   "language": "python",
   "name": "python3"
  },
  "language_info": {
   "codemirror_mode": {
    "name": "ipython",
    "version": 3
   },
   "file_extension": ".py",
   "mimetype": "text/x-python",
   "name": "python",
   "nbconvert_exporter": "python",
   "pygments_lexer": "ipython3",
   "version": "3.8.5"
  }
 },
 "nbformat": 4,
 "nbformat_minor": 4
}
