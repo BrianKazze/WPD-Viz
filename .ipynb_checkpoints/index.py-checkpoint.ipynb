{
 "cells": [
  {
   "cell_type": "code",
   "execution_count": 145,
   "metadata": {},
   "outputs": [],
   "source": [
    "import dash\n",
    "import dash_core_components as dcc\n",
    "import dash_html_components as html\n",
    "import dash_bootstrap_components as dbc"
   ]
  },
  {
   "cell_type": "code",
   "execution_count": 146,
   "metadata": {},
   "outputs": [],
   "source": [
    "app = dash.Dash(__name__, external_stylesheets=[dbc.themes.BOOTSTRAP])"
   ]
  },
  {
   "cell_type": "code",
   "execution_count": 147,
   "metadata": {},
   "outputs": [],
   "source": [
    "img1 = \"/assets/waves.png\",\n",
    "img2 = \"/assets/energy.png\",\n",
    "img3 = \"/assets/test-tube.png\",\n",
    "img4 = \"/assets/fuel-gas.png\","
   ]
  },
  {
   "cell_type": "code",
   "execution_count": 148,
   "metadata": {},
   "outputs": [],
   "source": [
    "date_picker = dcc.DatePickerRange(\n",
    "    start_date_placeholder_text=\"Start\",\n",
    "    end_date_placeholder_text=\"End\",\n",
    "    calendar_orientation='horizontal',\n",
    ") "
   ]
  },
  {
   "cell_type": "code",
   "execution_count": 149,
   "metadata": {},
   "outputs": [],
   "source": [
    "def create_card(img, title, content):\n",
    "    card = dbc.Card([\n",
    "        dbc.CardBody([\n",
    "            html.H6(title),\n",
    "            html.H6(content)\n",
    "        ], style={'background-color': '#fff',\n",
    "                  'justify-content':'center',\n",
    "                  'width': '60%','flex-direction': 'column',\n",
    "                  'display':'flex'}),\n",
    "        html.Div(dbc.CardImg(src=img, style={'height':'30px', \n",
    "                                    'width':'30px','margin': 'auto 0' \n",
    "                                   }),style={'background-color':'#116397','display':'flex','justify-content':'center','padding':'10px'})\n",
    "        \n",
    "    ],style={'display':'flex', 'flex-direction':'row','height':'10vh', 'width':'100%', 'box-shadow':' -1px 2px 5px #d6d2d2'})\n",
    "    return(card)\n",
    "\n",
    "card1 = create_card(img1, \"15 bn\",\"Production\")\n",
    "card2 = create_card(img2, \"15 bn\",\"Electricity\")\n",
    "card3 = create_card(img3, \"15 bn\",\"Chemical\")\n",
    "card4 = create_card(img4, \"15 bn\",\"Fuel\")\n",
    "\n",
    "cards = dbc.Row([\n",
    "        dbc.Col(id='card1', style={'max-width':'100%'}, children=[card1],  width=3,xs=12, sm=12, md=3),\n",
    "        dbc.Col(id='card2', style={'max-width':'100%'}, children=[card2], width=3, xs=12, sm=12, md=3),\n",
    "        dbc.Col(id='card3', style={'max-width':'100%'}, children=[card3], width=3, xs=12, sm=12, md=3),\n",
    "        dbc.Col(id='card4',style={'max-width':'100%'}, children=[card4], width=3, xs=12, sm=12, md=3)        \n",
    "    ])\n"
   ]
  },
  {
   "cell_type": "code",
   "execution_count": 150,
   "metadata": {},
   "outputs": [],
   "source": [
    "sidebar = html.Div([\n",
    "    dbc.Nav(\n",
    "    [\n",
    "        dbc.NavItem(dbc.NavLink(\"Active\", active=True, href=\"#\")),\n",
    "        dbc.NavItem(dbc.NavLink(\"A link\", href=\"#\")),\n",
    "        dbc.NavItem(dbc.NavLink(\"Another link\", href=\"#\")),\n",
    "        dbc.NavItem(dbc.NavLink(\"Disabled\", disabled=True, href=\"#\")),\n",
    "    ],\n",
    "    vertical=\"md\",\n",
    ")\n",
    "],style={\n",
    "    'background-color': '#fff',\n",
    "    'padding': '0 2rem',\n",
    "     'margin-right': '2%'\n",
    "})"
   ]
  },
  {
   "cell_type": "code",
   "execution_count": 151,
   "metadata": {},
   "outputs": [],
   "source": [
    "topNav = html.Div([html.H6('WPD Analitics')], style={\n",
    "    'height':'5vh',\n",
    "    'text-align':'center',\n",
    "    'width':'100%'\n",
    "})"
   ]
  },
  {
   "cell_type": "code",
   "execution_count": 152,
   "metadata": {},
   "outputs": [],
   "source": [
    "content_wrapper = html.Div([cards], style={\n",
    "        'width': '100%',\n",
    "    'overflow-x': 'hidden'\n",
    "})"
   ]
  },
  {
   "cell_type": "code",
   "execution_count": 153,
   "metadata": {},
   "outputs": [],
   "source": [
    "container = html.Div([sidebar,content_wrapper],                  style={'display':'flex',\n",
    "                             'flex-direction':'row',                                  \n",
    "                             'background-color': '#f1f1ec',\n",
    "                             'min-height': '100vh'\n",
    "   })"
   ]
  },
  {
   "cell_type": "code",
   "execution_count": 154,
   "metadata": {},
   "outputs": [],
   "source": [
    "app.layout = html.Div([topNav,container],       style={                                  \n",
    "                             'background-color': '#f1f1ec',\n",
    "                              'padding': '2%'\n",
    "   }\n",
    "    )"
   ]
  },
  {
   "cell_type": "code",
   "execution_count": null,
   "metadata": {},
   "outputs": [
    {
     "name": "stdout",
     "output_type": "stream",
     "text": [
      "Dash is running on http://127.0.0.1:8050/\n",
      "\n",
      "Dash is running on http://127.0.0.1:8050/\n",
      "\n",
      " * Serving Flask app \"__main__\" (lazy loading)\n",
      " * Environment: production\n",
      "\u001b[31m   WARNING: This is a development server. Do not use it in a production deployment.\u001b[0m\n",
      "\u001b[2m   Use a production WSGI server instead.\u001b[0m\n",
      " * Debug mode: off\n"
     ]
    },
    {
     "name": "stderr",
     "output_type": "stream",
     "text": [
      " * Running on http://127.0.0.1:8050/ (Press CTRL+C to quit)\n",
      "127.0.0.1 - - [18/Apr/2021 18:12:21] \"\u001b[37mGET / HTTP/1.1\u001b[0m\" 200 -\n",
      "127.0.0.1 - - [18/Apr/2021 18:12:21] \"\u001b[37mGET /_dash-layout HTTP/1.1\u001b[0m\" 200 -\n",
      "127.0.0.1 - - [18/Apr/2021 18:12:21] \"\u001b[37mGET /_dash-dependencies HTTP/1.1\u001b[0m\" 200 -\n"
     ]
    }
   ],
   "source": [
    "if __name__ == '__main__':\n",
    "    app.run_server(debug=False)"
   ]
  },
  {
   "cell_type": "code",
   "execution_count": null,
   "metadata": {},
   "outputs": [],
   "source": []
  },
  {
   "cell_type": "code",
   "execution_count": null,
   "metadata": {},
   "outputs": [],
   "source": []
  },
  {
   "cell_type": "code",
   "execution_count": null,
   "metadata": {},
   "outputs": [],
   "source": []
  },
  {
   "cell_type": "code",
   "execution_count": null,
   "metadata": {},
   "outputs": [],
   "source": []
  }
 ],
 "metadata": {
  "kernelspec": {
   "display_name": "Python 3",
   "language": "python",
   "name": "python3"
  },
  "language_info": {
   "codemirror_mode": {
    "name": "ipython",
    "version": 3
   },
   "file_extension": ".py",
   "mimetype": "text/x-python",
   "name": "python",
   "nbconvert_exporter": "python",
   "pygments_lexer": "ipython3",
   "version": "3.8.5"
  }
 },
 "nbformat": 4,
 "nbformat_minor": 4
}
